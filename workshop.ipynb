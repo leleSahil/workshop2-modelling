{
 "cells": [
  {
   "cell_type": "markdown",
   "metadata": {},
   "source": [
    "# Imports and setup"
   ]
  },
  {
   "cell_type": "code",
   "execution_count": 10,
   "metadata": {},
   "outputs": [],
   "source": [
    "import pandas as pd \n",
    "import numpy as np\n",
    "from sklearn import neighbors\n",
    "from sklearn.model_selection import RandomizedSearchCV, GridSearchCV, train_test_split\n",
    "from scipy.stats import randint as sp_randint\n",
    "from sklearn.svm import SVC"
   ]
  },
  {
   "cell_type": "markdown",
   "metadata": {},
   "source": [
    "# Utility functions"
   ]
  },
  {
   "cell_type": "code",
   "execution_count": 2,
   "metadata": {},
   "outputs": [],
   "source": [
    "def create_submission_file(predictions, model_name):\n",
    "    num_preds = len(predictions)\n",
    "    \n",
    "    if num_preds != 3926:\n",
    "        print(\"Number of predictions not equal to number of test observations!\")\n",
    "    \n",
    "    pd.DataFrame({\n",
    "        \"Prediction\" : predictions,\n",
    "        \"Id\" : range(1, num_preds + 1)\n",
    "    }).to_csv(model_name + \".csv\", index=False)\n",
    "    \n",
    "def accuracy(predictions, truth):\n",
    "    return np.mean(predictions == truth)"
   ]
  },
  {
   "cell_type": "markdown",
   "metadata": {},
   "source": [
    "# Load the data and split into training and validation sets"
   ]
  },
  {
   "cell_type": "code",
   "execution_count": 4,
   "metadata": {},
   "outputs": [],
   "source": [
    "# note: these datasets are slightly modified from the provided data\n",
    "# the train set includes the \"activity\" column, and both datasets have column names\n",
    "train = pd.read_csv(\"train.csv\")\n",
    "test = pd.read_csv(\"test.csv\")\n",
    "\n",
    "# FOR THE SAKE OF THE WORKSHOP: USE A SMALLER TRAINING SET SO THINGS RUN FASTER\n",
    "# FOR COMPETITION ENTRIES, REMOVE THIS SO YOU USE ALL THE TRAINING DATA\n",
    "train = train.loc[1:500, :]\n",
    "\n",
    "y = train[\"activity\"]\n",
    "X = train.iloc[:, train.columns != \"activity\"]\n",
    "\n",
    "# could split the data manually if you wanted:\n",
    "\n",
    "# msk = np.random.rand(len(train)) < 0.8\n",
    "\n",
    "# X_train = X[msk]\n",
    "# y_train = y[msk]\n",
    "# X_val = X[~msk]\n",
    "# y_val = y[~msk]\n",
    "\n",
    "# or use provided code\n",
    "X_train, X_val, y_train, y_val = train_test_split(X, y, test_size=0.2)"
   ]
  },
  {
   "cell_type": "markdown",
   "metadata": {},
   "source": [
    "# Train models with different hyperparameters on the training set and evaluate on the validation set"
   ]
  },
  {
   "cell_type": "code",
   "execution_count": 5,
   "metadata": {},
   "outputs": [
    {
     "name": "stdout",
     "output_type": "stream",
     "text": [
      "k: 5 gives validation accuracy: 0.89\n",
      "k: 10 gives validation accuracy: 0.89\n",
      "k: 15 gives validation accuracy: 0.89\n"
     ]
    }
   ],
   "source": [
    "for k in [5, 10, 15]:\n",
    "    knn = neighbors.KNeighborsClassifier(n_neighbors=k)\n",
    "    \n",
    "    knn.fit(X_train, y_train)\n",
    "    preds = knn.predict(X_val)\n",
    "    \n",
    "    report = \"k: \" + str(k) + \" gives validation accuracy: \" + str(accuracy(preds, y_val))\n",
    "    print(report)"
   ]
  },
  {
   "cell_type": "markdown",
   "metadata": {},
   "source": [
    "We see that the best value of K is 5. In practice, we want to do this for a bunch of train/validation splits, so we use cross-validation. In practice, it's also better to search for the best k by picking k randomly. Here's some code that automatically searches for the best k using cross validation."
   ]
  },
  {
   "cell_type": "code",
   "execution_count": 6,
   "metadata": {},
   "outputs": [
    {
     "data": {
      "text/plain": [
       "RandomizedSearchCV(cv=None, error_score='raise',\n",
       "          estimator=KNeighborsClassifier(algorithm='auto', leaf_size=30, metric='minkowski',\n",
       "           metric_params=None, n_jobs=1, n_neighbors=5, p=2,\n",
       "           weights='uniform'),\n",
       "          fit_params=None, iid=True, n_iter=10, n_jobs=-1,\n",
       "          param_distributions={'n_neighbors': <scipy.stats._distn_infrastructure.rv_frozen object at 0x0000001F9692ACF8>},\n",
       "          pre_dispatch='2*n_jobs', random_state=None, refit=True,\n",
       "          return_train_score=True, scoring=None, verbose=0)"
      ]
     },
     "execution_count": 6,
     "metadata": {},
     "output_type": "execute_result"
    }
   ],
   "source": [
    "# pick k randomly in the range [1, 30]\n",
    "param_dist = {\n",
    "    'n_neighbors': sp_randint(1, 31),\n",
    "}\n",
    "\n",
    "clf = neighbors.KNeighborsClassifier()\n",
    "\n",
    "# now try 10 random k and save the best\n",
    "clf_rs = RandomizedSearchCV(clf, param_distributions=param_dist,\n",
    "                            n_iter=10, n_jobs = -1)\n",
    "\n",
    "# now clf_rs is just a KNN model with the best value of k automatically selected\n",
    "# give the randomized search the entire training set, it'll do cross validation internally\n",
    "clf_rs.fit(X, y)"
   ]
  },
  {
   "cell_type": "markdown",
   "metadata": {},
   "source": [
    "See the results of the cross-validated search for k. Also assess performance on the validation set."
   ]
  },
  {
   "cell_type": "code",
   "execution_count": 7,
   "metadata": {},
   "outputs": [
    {
     "name": "stdout",
     "output_type": "stream",
     "text": [
      "   mean_fit_time  mean_score_time  mean_test_score  mean_train_score  \\\n",
      "0       0.016674         0.087377            0.758          0.913992   \n",
      "1       0.019346         0.098404            0.700          0.931006   \n",
      "2       0.020348         0.100404            0.780          0.877983   \n",
      "3       0.018680         0.096736            0.774          0.871992   \n",
      "4       0.021015         0.093401            0.758          0.918997   \n",
      "5       0.025017         0.097403            0.768          0.878987   \n",
      "6       0.021014         0.100405            0.776          0.875972   \n",
      "7       0.020348         0.105075            0.772          0.869966   \n",
      "8       0.020681         0.097069            0.762          0.900997   \n",
      "9       0.020014         0.090398            0.764          0.908996   \n",
      "\n",
      "  param_n_neighbors               params  rank_test_score  split0_test_score  \\\n",
      "0                10  {'n_neighbors': 10}                8           0.796407   \n",
      "1                 2   {'n_neighbors': 2}               10           0.784431   \n",
      "2                25  {'n_neighbors': 25}                1           0.772455   \n",
      "3                22  {'n_neighbors': 22}                3           0.796407   \n",
      "4                11  {'n_neighbors': 11}                8           0.772455   \n",
      "5                20  {'n_neighbors': 20}                5           0.784431   \n",
      "6                29  {'n_neighbors': 29}                2           0.754491   \n",
      "7                28  {'n_neighbors': 28}                4           0.760479   \n",
      "8                14  {'n_neighbors': 14}                7           0.802395   \n",
      "9                15  {'n_neighbors': 15}                6           0.796407   \n",
      "\n",
      "   split0_train_score  split1_test_score  split1_train_score  \\\n",
      "0            0.912913           0.772455            0.906907   \n",
      "1            0.933934           0.682635            0.933934   \n",
      "2            0.864865           0.808383            0.873874   \n",
      "3            0.846847           0.802395            0.888889   \n",
      "4            0.933934           0.784431            0.900901   \n",
      "5            0.864865           0.790419            0.879880   \n",
      "6            0.858859           0.802395            0.864865   \n",
      "7            0.849850           0.796407            0.855856   \n",
      "8            0.906907           0.772455            0.891892   \n",
      "9            0.909910           0.772455            0.903904   \n",
      "\n",
      "   split2_test_score  split2_train_score  std_fit_time  std_score_time  \\\n",
      "0           0.704819            0.922156      0.001703        0.002491   \n",
      "1           0.632530            0.925150      0.003302        0.005440   \n",
      "2           0.759036            0.895210      0.003401        0.001702   \n",
      "3           0.722892            0.880240      0.000943        0.001248   \n",
      "4           0.716867            0.922156      0.004972        0.002358   \n",
      "5           0.728916            0.892216      0.002946        0.004499   \n",
      "6           0.771084            0.904192      0.004245        0.004030   \n",
      "7           0.759036            0.904192      0.000944        0.008987   \n",
      "8           0.710843            0.904192      0.000471        0.003269   \n",
      "9           0.722892            0.913174      0.000817        0.004031   \n",
      "\n",
      "   std_test_score  std_train_score  \n",
      "0        0.038748         0.006272  \n",
      "1        0.063190         0.004141  \n",
      "2        0.020833         0.012724  \n",
      "3        0.036114         0.018127  \n",
      "4        0.029408         0.013669  \n",
      "5        0.027662         0.011184  \n",
      "6        0.019881         0.020105  \n",
      "7        0.017294         0.024325  \n",
      "8        0.038084         0.006533  \n",
      "9        0.030589         0.003839  \n",
      "0.92\n"
     ]
    }
   ],
   "source": [
    "print(pd.DataFrame(clf_rs.cv_results_))"
   ]
  },
  {
   "cell_type": "markdown",
   "metadata": {},
   "source": [
    "Finally, predict on the text set and save the "
   ]
  },
  {
   "cell_type": "code",
   "execution_count": 8,
   "metadata": {},
   "outputs": [],
   "source": [
    "preds = clf_rs.predict(test)\n",
    "create_submission_file(preds, \"knn_tuned_predictions\")"
   ]
  },
  {
   "cell_type": "markdown",
   "metadata": {},
   "source": [
    "# Some sample code for grid search on a support vector machine for classification"
   ]
  },
  {
   "cell_type": "code",
   "execution_count": 11,
   "metadata": {},
   "outputs": [
    {
     "data": {
      "text/plain": [
       "GridSearchCV(cv=None, error_score='raise',\n",
       "       estimator=SVC(C=1.0, cache_size=200, class_weight=None, coef0=0.0,\n",
       "  decision_function_shape='ovr', degree=3, gamma='auto', kernel='rbf',\n",
       "  max_iter=-1, probability=False, random_state=None, shrinking=True,\n",
       "  tol=0.001, verbose=False),\n",
       "       fit_params=None, iid=True, n_jobs=1,\n",
       "       param_grid=[{'kernel': ['rbf'], 'gamma': [0.001, 0.0001], 'C': [1, 10, 100, 1000]}, {'kernel': ['linear'], 'C': [1, 10, 100, 1000]}],\n",
       "       pre_dispatch='2*n_jobs', refit=True, return_train_score=True,\n",
       "       scoring=None, verbose=0)"
      ]
     },
     "execution_count": 11,
     "metadata": {},
     "output_type": "execute_result"
    }
   ],
   "source": [
    "tuned_parameters = [{'kernel': ['rbf'], 'gamma': [1e-3, 1e-4],\n",
    "                     'C': [1, 10, 100, 1000]},\n",
    "                    {'kernel': ['linear'], 'C': [1, 10, 100, 1000]}]\n",
    "\n",
    "svm_clf = GridSearchCV(SVC(), tuned_parameters)\n",
    "svm_clf.fit(X, y)"
   ]
  },
  {
   "cell_type": "code",
   "execution_count": null,
   "metadata": {},
   "outputs": [],
   "source": [
    "Again we check how well we did"
   ]
  },
  {
   "cell_type": "code",
   "execution_count": 12,
   "metadata": {},
   "outputs": [
    {
     "name": "stdout",
     "output_type": "stream",
     "text": [
      "    mean_fit_time  mean_score_time  mean_test_score  mean_train_score param_C  \\\n",
      "0        0.081696         0.037323            0.658          0.776013       1   \n",
      "1        0.125740         0.038011            0.378          0.379997       1   \n",
      "2        0.059991         0.033343            0.900          0.992007      10   \n",
      "3        0.076012         0.036001            0.688          0.813002      10   \n",
      "4        0.058671         0.030663            0.908          1.000000     100   \n",
      "5        0.056017         0.030663            0.902          0.991006     100   \n",
      "6        0.077333         0.039996            0.908          1.000000    1000   \n",
      "7        0.077328         0.038676            0.908          1.000000    1000   \n",
      "8        0.057343         0.026668            0.908          1.000000       1   \n",
      "9        0.057348         0.032002            0.908          1.000000      10   \n",
      "10       0.069339         0.036000            0.908          1.000000     100   \n",
      "11       0.051996         0.028003            0.908          1.000000    1000   \n",
      "\n",
      "   param_gamma param_kernel                                         params  \\\n",
      "0        0.001          rbf      {'gamma': 0.001, 'kernel': 'rbf', 'C': 1}   \n",
      "1       0.0001          rbf     {'gamma': 0.0001, 'kernel': 'rbf', 'C': 1}   \n",
      "2        0.001          rbf     {'gamma': 0.001, 'kernel': 'rbf', 'C': 10}   \n",
      "3       0.0001          rbf    {'gamma': 0.0001, 'kernel': 'rbf', 'C': 10}   \n",
      "4        0.001          rbf    {'gamma': 0.001, 'kernel': 'rbf', 'C': 100}   \n",
      "5       0.0001          rbf   {'gamma': 0.0001, 'kernel': 'rbf', 'C': 100}   \n",
      "6        0.001          rbf   {'gamma': 0.001, 'kernel': 'rbf', 'C': 1000}   \n",
      "7       0.0001          rbf  {'gamma': 0.0001, 'kernel': 'rbf', 'C': 1000}   \n",
      "8          NaN       linear                   {'kernel': 'linear', 'C': 1}   \n",
      "9          NaN       linear                  {'kernel': 'linear', 'C': 10}   \n",
      "10         NaN       linear                 {'kernel': 'linear', 'C': 100}   \n",
      "11         NaN       linear                {'kernel': 'linear', 'C': 1000}   \n",
      "\n",
      "    rank_test_score  split0_test_score  split0_train_score  split1_test_score  \\\n",
      "0                11           0.682635            0.780781           0.700599   \n",
      "1                12           0.383234            0.378378           0.383234   \n",
      "2                 9           0.856287            0.996997           0.964072   \n",
      "3                10           0.688623            0.819820           0.754491   \n",
      "4                 1           0.868263            1.000000           0.934132   \n",
      "5                 8           0.856287            0.993994           0.964072   \n",
      "6                 1           0.868263            1.000000           0.934132   \n",
      "7                 1           0.862275            1.000000           0.934132   \n",
      "8                 1           0.862275            1.000000           0.934132   \n",
      "9                 1           0.862275            1.000000           0.934132   \n",
      "10                1           0.862275            1.000000           0.934132   \n",
      "11                1           0.862275            1.000000           0.934132   \n",
      "\n",
      "    split1_train_score  split2_test_score  split2_train_score  std_fit_time  \\\n",
      "0             0.783784           0.590361            0.763473      0.008035   \n",
      "1             0.378378           0.367470            0.383234      0.001730   \n",
      "2             0.993994           0.879518            0.985030      0.005648   \n",
      "3             0.807808           0.620482            0.811377      0.003267   \n",
      "4             1.000000           0.921687            1.000000      0.001886   \n",
      "5             0.993994           0.885542            0.985030      0.003257   \n",
      "6             1.000000           0.921687            1.000000      0.009423   \n",
      "7             1.000000           0.927711            1.000000      0.003771   \n",
      "8             1.000000           0.927711            1.000000      0.004983   \n",
      "9             1.000000           0.927711            1.000000      0.008218   \n",
      "10            1.000000           0.927711            1.000000      0.004995   \n",
      "11            1.000000           0.927711            1.000000      0.003275   \n",
      "\n",
      "    std_score_time  std_test_score  std_train_score  \n",
      "0         0.001882        0.048246         0.008951  \n",
      "1         0.001633        0.007424         0.002289  \n",
      "2         0.004998        0.046353         0.005084  \n",
      "3         0.000001        0.054683         0.005037  \n",
      "4         0.001895        0.028595         0.000000  \n",
      "5         0.001881        0.045549         0.004226  \n",
      "6         0.000010        0.028595         0.000000  \n",
      "7         0.001876        0.032486         0.000000  \n",
      "8         0.001872        0.032486         0.000000  \n",
      "9         0.005659        0.032486         0.000000  \n",
      "10        0.000005        0.032486         0.000000  \n",
      "11        0.000002        0.032486         0.000000  \n"
     ]
    }
   ],
   "source": [
    "print(pd.DataFrame(svm_clf.cv_results_))"
   ]
  },
  {
   "cell_type": "code",
   "execution_count": 14,
   "metadata": {},
   "outputs": [],
   "source": [
    "preds = svm_clf.predict(test)\n",
    "create_submission_file(preds, \"svm_tuned_predictions\")"
   ]
  },
  {
   "cell_type": "code",
   "execution_count": null,
   "metadata": {},
   "outputs": [],
   "source": []
  }
 ],
 "metadata": {
  "kernelspec": {
   "display_name": "Python 3.5 w/ TF",
   "language": "python",
   "name": "py35"
  },
  "language_info": {
   "codemirror_mode": {
    "name": "ipython",
    "version": 3
   },
   "file_extension": ".py",
   "mimetype": "text/x-python",
   "name": "python",
   "nbconvert_exporter": "python",
   "pygments_lexer": "ipython3",
   "version": "3.5.2"
  }
 },
 "nbformat": 4,
 "nbformat_minor": 2
}
